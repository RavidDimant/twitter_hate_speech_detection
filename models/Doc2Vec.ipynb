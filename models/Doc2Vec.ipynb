{
 "metadata": {
  "language_info": {
   "codemirror_mode": {
    "name": "ipython",
    "version": 3
   },
   "file_extension": ".py",
   "mimetype": "text/x-python",
   "name": "python",
   "nbconvert_exporter": "python",
   "pygments_lexer": "ipython3",
   "version": "3.6.9-final"
  },
  "orig_nbformat": 2,
  "kernelspec": {
   "name": "python3",
   "display_name": "Python 3",
   "language": "python"
  }
 },
 "nbformat": 4,
 "nbformat_minor": 2,
 "cells": [
  {
   "source": [
    "# Doc2Vec Modeling\n",
    "\n",
    "The code in the notebook was referenced from [this](https://towardsdatascience.com/multi-class-text-classification-with-doc2vec-logistic-regression-9da9947b43f4) Medium post."
   ],
   "cell_type": "markdown",
   "metadata": {}
  },
  {
   "cell_type": "code",
   "execution_count": 1,
   "metadata": {},
   "outputs": [],
   "source": [
    "# imports\n",
    "import pandas as pd\n",
    "import matplotlib.pyplot as plt\n",
    "from matplotlib import cm\n",
    "import seaborn as sns; sns.set()\n",
    "%matplotlib inline\n",
    "import nltk\n",
    "from nltk.tokenize import word_tokenize\n",
    "from sklearn.feature_extraction import text \n",
    "from nltk.stem import WordNetLemmatizer \n",
    "from sklearn.feature_extraction.text import CountVectorizer, TfidfVectorizer, TfidfTransformer\n",
    "from nltk.probability import FreqDist\n",
    "from nltk.corpus import stopwords\n",
    "from nltk.stem import PorterStemmer\n",
    "from sklearn import metrics\n",
    "from sklearn.naive_bayes import MultinomialNB\n",
    "from sklearn.model_selection import train_test_split, GridSearchCV\n",
    "# model\n",
    "from gensim.models.doc2vec import Doc2Vec, TaggedDocument\n",
    "from sklearn.svm import LinearSVC\n",
    "# metrics\n",
    "from sklearn import metrics, model_selection\n",
    "import sklearn.metrics as metrics\n",
    "from sklearn.metrics import accuracy_score, precision_score, recall_score, f1_score, confusion_matrix, plot_confusion_matrix, roc_curve, auc, classification_report\n",
    "import pickle\n",
    "# this may not work because of gensim problem?"
   ]
  },
  {
   "source": [
    "## Importing `clean_df`"
   ],
   "cell_type": "markdown",
   "metadata": {}
  },
  {
   "cell_type": "code",
   "execution_count": 2,
   "metadata": {},
   "outputs": [],
   "source": [
    "clean_df = pd.read_pickle('../pickle/clean_df.pkl')"
   ]
  },
  {
   "cell_type": "code",
   "execution_count": 3,
   "metadata": {},
   "outputs": [
    {
     "output_type": "execute_result",
     "data": {
      "text/plain": [
       "   total_votes  hate_speech_votes  other_votes  label  \\\n",
       "0            3                  0            3      0   \n",
       "1            3                  0            3      0   \n",
       "\n",
       "                                               tweet  \\\n",
       "0  !!! RT @mayasolovely: As a woman you shouldn't...   \n",
       "1  !!!!! RT @mleew17: boy dats cold...tyga dwn ba...   \n",
       "\n",
       "                                       round_1_tweet  \n",
       "0     as a woman you shouldnt complain about clea...  \n",
       "1     boy dats coldtyga dwn bad for cuffin dat ho...  "
      ],
      "text/html": "<div>\n<style scoped>\n    .dataframe tbody tr th:only-of-type {\n        vertical-align: middle;\n    }\n\n    .dataframe tbody tr th {\n        vertical-align: top;\n    }\n\n    .dataframe thead th {\n        text-align: right;\n    }\n</style>\n<table border=\"1\" class=\"dataframe\">\n  <thead>\n    <tr style=\"text-align: right;\">\n      <th></th>\n      <th>total_votes</th>\n      <th>hate_speech_votes</th>\n      <th>other_votes</th>\n      <th>label</th>\n      <th>tweet</th>\n      <th>round_1_tweet</th>\n    </tr>\n  </thead>\n  <tbody>\n    <tr>\n      <th>0</th>\n      <td>3</td>\n      <td>0</td>\n      <td>3</td>\n      <td>0</td>\n      <td>!!! RT @mayasolovely: As a woman you shouldn't...</td>\n      <td>as a woman you shouldnt complain about clea...</td>\n    </tr>\n    <tr>\n      <th>1</th>\n      <td>3</td>\n      <td>0</td>\n      <td>3</td>\n      <td>0</td>\n      <td>!!!!! RT @mleew17: boy dats cold...tyga dwn ba...</td>\n      <td>boy dats coldtyga dwn bad for cuffin dat ho...</td>\n    </tr>\n  </tbody>\n</table>\n</div>"
     },
     "metadata": {},
     "execution_count": 3
    }
   ],
   "source": [
    "clean_df.head(2)"
   ]
  },
  {
   "source": [
    "## Train-Test Split"
   ],
   "cell_type": "markdown",
   "metadata": {}
  },
  {
   "cell_type": "code",
   "execution_count": 4,
   "metadata": {},
   "outputs": [],
   "source": [
    "train, test = train_test_split(clean_df, test_size=0.3, random_state=42)"
   ]
  },
  {
   "source": [
    "## Preparing the Data"
   ],
   "cell_type": "markdown",
   "metadata": {}
  },
  {
   "cell_type": "code",
   "execution_count": 5,
   "metadata": {},
   "outputs": [],
   "source": [
    "def tokenize_text(text):\n",
    "    tokens = []\n",
    "    for sent in nltk.sent_tokenize(text):\n",
    "        for word in nltk.word_tokenize(sent):\n",
    "            if len(word) < 2:\n",
    "                continue\n",
    "            tokens.append(word.lower())\n",
    "    return tokens"
   ]
  },
  {
   "cell_type": "code",
   "execution_count": 6,
   "metadata": {},
   "outputs": [],
   "source": [
    "tagged_train = train.apply(\n",
    "    lambda r: TaggedDocument(words=tokenize_text(r['round_1_tweet']), tags=[r.label]), axis=1)\n",
    "tagged_test = test.apply(\n",
    "    lambda r: TaggedDocument(words=tokenize_text(r['round_1_tweet']), tags=[r.label]), axis=1)"
   ]
  },
  {
   "cell_type": "code",
   "execution_count": 7,
   "metadata": {},
   "outputs": [
    {
     "output_type": "execute_result",
     "data": {
      "text/plain": [
       "TaggedDocument(words=['this', 'bitch', 'instating', 'and', 'driving', 'for', 'me'], tags=[0])"
      ]
     },
     "metadata": {},
     "execution_count": 7
    }
   ],
   "source": [
    "tagged_train.values[30]"
   ]
  },
  {
   "source": [
    "## Training DBOW Model\n",
    "\n",
    "This is the Doc2Vec model analogous to Skip-gram model in Word2Vec. Here we can see that training a Doc2Vec model is much more straight forward in Gensim."
   ],
   "cell_type": "markdown",
   "metadata": {}
  },
  {
   "cell_type": "code",
   "execution_count": 8,
   "metadata": {},
   "outputs": [],
   "source": [
    "# train a doc2vec model, using only training data\n",
    "dbow_model = Doc2Vec(vector_size=100, \n",
    "                alpha=0.025, \n",
    "                min_count=5,\n",
    "                dm=1, epochs=100)"
   ]
  },
  {
   "cell_type": "code",
   "execution_count": 9,
   "metadata": {},
   "outputs": [
    {
     "output_type": "stream",
     "name": "stderr",
     "text": [
      "100%|██████████| 17348/17348 [00:00<00:00, 2728468.04it/s]\n"
     ]
    }
   ],
   "source": [
    "from tqdm import tqdm\n",
    "tqdm.pandas(desc=\"progress-bar\")\n",
    "\n",
    "# building vocabulary \n",
    "dbow_model.build_vocab([x for x in tqdm(tagged_train.values)])\n"
   ]
  },
  {
   "cell_type": "code",
   "execution_count": 10,
   "metadata": {},
   "outputs": [
    {
     "output_type": "stream",
     "name": "stderr",
     "text": [
      "100%|██████████| 17348/17348 [00:00<00:00, 2211433.18it/s]\n",
      "100%|██████████| 17348/17348 [00:00<00:00, 3177414.23it/s]\n",
      "100%|██████████| 17348/17348 [00:00<00:00, 2680028.94it/s]\n",
      "100%|██████████| 17348/17348 [00:00<00:00, 2853330.68it/s]\n",
      "100%|██████████| 17348/17348 [00:00<00:00, 3398700.82it/s]\n",
      "100%|██████████| 17348/17348 [00:00<00:00, 2881123.97it/s]\n",
      "100%|██████████| 17348/17348 [00:00<00:00, 2931382.88it/s]\n",
      "100%|██████████| 17348/17348 [00:00<00:00, 2777841.71it/s]\n",
      "100%|██████████| 17348/17348 [00:00<00:00, 3228162.63it/s]\n",
      "100%|██████████| 17348/17348 [00:00<00:00, 3088534.56it/s]\n",
      "100%|██████████| 17348/17348 [00:00<00:00, 3060603.42it/s]\n",
      "100%|██████████| 17348/17348 [00:00<00:00, 3268327.98it/s]\n",
      "100%|██████████| 17348/17348 [00:00<00:00, 2897299.74it/s]\n",
      "100%|██████████| 17348/17348 [00:00<00:00, 3029636.75it/s]\n",
      "100%|██████████| 17348/17348 [00:00<00:00, 2960002.68it/s]\n",
      "100%|██████████| 17348/17348 [00:00<00:00, 3214329.89it/s]\n",
      "100%|██████████| 17348/17348 [00:00<00:00, 2784538.89it/s]\n",
      "100%|██████████| 17348/17348 [00:00<00:00, 3237786.94it/s]\n",
      "100%|██████████| 17348/17348 [00:00<00:00, 2973064.71it/s]\n",
      "100%|██████████| 17348/17348 [00:00<00:00, 2923961.66it/s]\n",
      "100%|██████████| 17348/17348 [00:00<00:00, 3231173.04it/s]\n",
      "100%|██████████| 17348/17348 [00:00<00:00, 2682202.37it/s]\n",
      "100%|██████████| 17348/17348 [00:00<00:00, 3169663.09it/s]\n",
      "100%|██████████| 17348/17348 [00:00<00:00, 2911326.60it/s]\n",
      "100%|██████████| 17348/17348 [00:00<00:00, 2900417.98it/s]\n",
      "100%|██████████| 17348/17348 [00:00<00:00, 3198223.63it/s]\n",
      "100%|██████████| 17348/17348 [00:00<00:00, 3259689.36it/s]\n",
      "100%|██████████| 17348/17348 [00:00<00:00, 2752204.62it/s]\n",
      "100%|██████████| 17348/17348 [00:00<00:00, 2678844.92it/s]\n",
      "100%|██████████| 17348/17348 [00:00<00:00, 2386291.02it/s]\n"
     ]
    }
   ],
   "source": [
    "from sklearn import utils\n",
    "for epoch in range(30):\n",
    "    dbow_model.train(utils.shuffle([x for x in tqdm(tagged_train.values)]), total_examples=len(tagged_train.values), epochs=1)\n",
    "    dbow_model.alpha -= 0.002\n",
    "    dbow_model.min_alpha = dbow_model.alpha"
   ]
  },
  {
   "source": [
    "### Building the final vector feature for the classifier"
   ],
   "cell_type": "markdown",
   "metadata": {}
  },
  {
   "cell_type": "code",
   "execution_count": 11,
   "metadata": {},
   "outputs": [],
   "source": [
    "def vec_for_learning(model, tagged_docs):\n",
    "    sents = tagged_docs.values\n",
    "    targets, regressors = zip(*[(doc.tags[0], model.infer_vector(doc.words, steps=20)) for doc in sents])\n",
    "    return targets, regressors"
   ]
  },
  {
   "source": [
    "## Logisitic Regression\n",
    "\n",
    "We're using a Logisitic Regression model because it was the best performing baseline."
   ],
   "cell_type": "markdown",
   "metadata": {}
  },
  {
   "cell_type": "code",
   "execution_count": 12,
   "metadata": {},
   "outputs": [],
   "source": [
    "y_train, X_train = vec_for_learning(dbow_model, tagged_train)\n",
    "y_test, X_test = vec_for_learning(dbow_model, tagged_test)"
   ]
  },
  {
   "cell_type": "code",
   "execution_count": 13,
   "metadata": {},
   "outputs": [],
   "source": [
    "from sklearn.linear_model import LogisticRegression\n",
    "logreg = LogisticRegression(n_jobs=1, C=1e5)"
   ]
  },
  {
   "cell_type": "code",
   "execution_count": 14,
   "metadata": {},
   "outputs": [
    {
     "output_type": "execute_result",
     "data": {
      "text/plain": [
       "LogisticRegression(C=100000.0, n_jobs=1)"
      ]
     },
     "metadata": {},
     "execution_count": 14
    }
   ],
   "source": [
    "logreg.fit(X_train, y_train)"
   ]
  },
  {
   "cell_type": "code",
   "execution_count": 15,
   "metadata": {},
   "outputs": [],
   "source": [
    "y_pred = logreg.predict(X_test)"
   ]
  },
  {
   "cell_type": "code",
   "execution_count": 19,
   "metadata": {},
   "outputs": [
    {
     "output_type": "stream",
     "name": "stdout",
     "text": [
      "Testing precision 0.4491525423728814\nTesting recall 0.12412177985948478\nTesting F1 score: 0.9248533027145003\n"
     ]
    }
   ],
   "source": [
    "print('Testing precision %s' % precision_score(y_test, y_pred))\n",
    "print('Testing recall %s' % recall_score(y_test, y_pred))\n",
    "print('Testing F1 score: {}'.format(f1_score(y_test, y_pred, average='weighted')))\n",
    "\n",
    "# not having a weighted F1 brings the score down to .19"
   ]
  },
  {
   "source": [
    "Looks like using Doc2Vec on a Logistic Regression model really bumped up the F1 score! We can try using this method on other models next."
   ],
   "cell_type": "markdown",
   "metadata": {}
  },
  {
   "source": [
    "According to the sk-learn documentation, a weighted F1 score calculates metrics for each label, and finds their average weighted by support (the number of true instances for each label). **This alters ‘macro’ to account for label imbalance;** it can result in an F-score that is not between precision and recall.\n",
    "\n"
   ],
   "cell_type": "markdown",
   "metadata": {}
  },
  {
   "cell_type": "code",
   "execution_count": null,
   "metadata": {},
   "outputs": [],
   "source": []
  }
 ]
}